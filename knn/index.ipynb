{
 "cells": [
  {
   "cell_type": "markdown",
   "metadata": {},
   "source": [
    "# K Nearest Neighbours aplicado à base IRIS\n",
    "\n",
    "Como solicitado na especificação do trabalho, a base de dados foi dividida em três partes: A, B e C - cada uma com a mesma proporção.\n",
    "\n",
    "Inicialmente, devemos carregar o dataset previamente divido:"
   ]
  },
  {
   "cell_type": "code",
   "execution_count": 3,
   "metadata": {},
   "outputs": [],
   "source": [
    "import pandas as pd\n",
    "\n",
    "A = pd.read_csv('../Iris/df_A.csv', header=None)\n",
    "B = pd.read_csv('../Iris/df_B.csv', header=None)\n",
    "C = pd.read_csv('../Iris/df_C.csv', header=None)\n",
    "\n",
    "# Set the first row as the header\n",
    "A.columns = A.iloc[0]\n",
    "B.columns = B.iloc[0]\n",
    "C.columns = C.iloc[0]\n",
    "\n",
    "# Drop the first row now that the headers are set\n",
    "A = A.drop(A.index[0])\n",
    "B = B.drop(B.index[0])\n",
    "C = C.drop(C.index[0])\n",
    "\n",
    "# Reset the index if needed\n",
    "A.reset_index(drop=True, inplace=True)\n",
    "B.reset_index(drop=True, inplace=True)\n",
    "C.reset_index(drop=True, inplace=True)"
   ]
  },
  {
   "cell_type": "markdown",
   "metadata": {},
   "source": [
    "Com a base divida de acordo com a especificação, podemos iniciar os experimentos."
   ]
  },
  {
   "cell_type": "code",
   "execution_count": 4,
   "metadata": {},
   "outputs": [],
   "source": [
    "import pandas as pd\n",
    "\n",
    "metrics_df = pd.DataFrame(columns=[\"treinamento\", \"acurácia\", \"sensitividade\", \"especificidade\", \"precision\"])"
   ]
  },
  {
   "cell_type": "markdown",
   "metadata": {},
   "source": [
    "## Experimento 1\n",
    "### Treinamento A+B com teste C\n"
   ]
  },
  {
   "cell_type": "code",
   "execution_count": 6,
   "metadata": {},
   "outputs": [
    {
     "data": {
      "text/html": [
       "<div>\n",
       "<style scoped>\n",
       "    .dataframe tbody tr th:only-of-type {\n",
       "        vertical-align: middle;\n",
       "    }\n",
       "\n",
       "    .dataframe tbody tr th {\n",
       "        vertical-align: top;\n",
       "    }\n",
       "\n",
       "    .dataframe thead th {\n",
       "        text-align: right;\n",
       "    }\n",
       "</style>\n",
       "<table border=\"1\" class=\"dataframe\">\n",
       "  <thead>\n",
       "    <tr style=\"text-align: right;\">\n",
       "      <th></th>\n",
       "      <th>treinamento</th>\n",
       "      <th>acurácia</th>\n",
       "      <th>sensitividade</th>\n",
       "      <th>especificidade</th>\n",
       "      <th>precision</th>\n",
       "    </tr>\n",
       "  </thead>\n",
       "  <tbody>\n",
       "    <tr>\n",
       "      <th>0</th>\n",
       "      <td>A+B e teste C</td>\n",
       "      <td>97.959184</td>\n",
       "      <td>0.979167</td>\n",
       "      <td>[1.0, 0.9444444444444444, 1.0]</td>\n",
       "      <td>0.980392</td>\n",
       "    </tr>\n",
       "  </tbody>\n",
       "</table>\n",
       "</div>"
      ],
      "text/plain": [
       "     treinamento   acurácia  sensitividade                  especificidade  \\\n",
       "0  A+B e teste C  97.959184       0.979167  [1.0, 0.9444444444444444, 1.0]   \n",
       "\n",
       "   precision  \n",
       "0   0.980392  "
      ]
     },
     "execution_count": 6,
     "metadata": {},
     "output_type": "execute_result"
    }
   ],
   "source": [
    "import pandas as pd\n",
    "from sklearn.neighbors import KNeighborsClassifier\n",
    "from sklearn.metrics import precision_score, accuracy_score, confusion_matrix, recall_score\n",
    "\n",
    "train = pd.concat([A, B])\n",
    "test = pd.concat([C])\n",
    "\n",
    "feature_columns = ['sepal_length', 'sepal_width', 'petal_length','petal_width']\n",
    "\n",
    "\n",
    "x_train = train[feature_columns].values\n",
    "y_train = train['species'].values\n",
    "\n",
    "x_test = test[feature_columns].values\n",
    "y_test = test['species'].values\n",
    "\n",
    "# Será que é necessário normalizar?\n",
    "classifier = KNeighborsClassifier(n_neighbors=3)\n",
    "classifier.fit(x_train, y_train)\n",
    "\n",
    "y_pred = classifier.predict(x_test)\n",
    "\n",
    "cm = confusion_matrix(y_test, y_pred)\n",
    "specificity_per_class = []\n",
    "for j in range(len(cm)):\n",
    "    tn = cm[0, 0] + cm[1, 1] - cm[j, j]\n",
    "    fp = cm[j, :].sum() - cm[j, j]\n",
    "    specificity_j = (tn / (tn + fp))\n",
    "    specificity_per_class.append(specificity_j)\n",
    "\n",
    "accuracy = accuracy_score(y_test, y_pred)*100\n",
    "sensitivity = recall_score(y_test, y_pred, average='macro')\n",
    "precision = precision_score(y_test, y_pred, average='macro')\n",
    "\n",
    "metrics_df.loc[len(metrics_df)] = {\n",
    "    \"treinamento\": \"A+B e teste C\",\n",
    "    \"acurácia\": accuracy,\n",
    "    \"sensitividade\": sensitivity,\n",
    "    \"especificidade\": specificity_per_class,\n",
    "    \"precision\": precision\n",
    "}\n",
    "\n",
    "metrics_df"
   ]
  }
 ],
 "metadata": {
  "kernelspec": {
   "display_name": "Python 3",
   "language": "python",
   "name": "python3"
  },
  "language_info": {
   "codemirror_mode": {
    "name": "ipython",
    "version": 3
   },
   "file_extension": ".py",
   "mimetype": "text/x-python",
   "name": "python",
   "nbconvert_exporter": "python",
   "pygments_lexer": "ipython3",
   "version": "3.9.6"
  }
 },
 "nbformat": 4,
 "nbformat_minor": 2
}
