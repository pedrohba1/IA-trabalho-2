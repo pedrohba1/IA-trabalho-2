{
 "cells": [
  {
   "cell_type": "markdown",
   "metadata": {},
   "source": [
    "# K Nearest Neighbours aplicado à base IRIS\n",
    "\n",
    "Como solicitado na especificação do trabalho, a base de dados foi dividida em três partes: A, B e C - cada uma com a mesma proporção.\n",
    "\n",
    "Inicialmente, devemos carregar o dataset previamente divido:"
   ]
  },
  {
   "cell_type": "code",
   "execution_count": 17,
   "metadata": {},
   "outputs": [],
   "source": [
    "import pandas as pd\n",
    "\n",
    "A = pd.read_csv('../Iris/df_A.csv', header=None)\n",
    "B = pd.read_csv('../Iris/df_B.csv', header=None)\n",
    "C = pd.read_csv('../Iris/df_C.csv', header=None)\n",
    "\n",
    "# Set the first row as the header\n",
    "A.columns = A.iloc[0]\n",
    "B.columns = B.iloc[0]\n",
    "C.columns = C.iloc[0]\n",
    "\n",
    "# Drop the first row now that the headers are set\n",
    "A = A.drop(A.index[0])\n",
    "B = B.drop(B.index[0])\n",
    "C = C.drop(C.index[0])\n",
    "\n",
    "# Reset the index if needed\n",
    "A.reset_index(drop=True, inplace=True)\n",
    "B.reset_index(drop=True, inplace=True)\n",
    "C.reset_index(drop=True, inplace=True)"
   ]
  },
  {
   "cell_type": "markdown",
   "metadata": {},
   "source": [
    "Com a base divida de acordo com a especificação, podemos iniciar os experimentos.\n",
    "A variável abaixo será utilizada posteriormente para compararmos os resultados e tirar uma conclusão baseado nos experimentos."
   ]
  },
  {
   "cell_type": "code",
   "execution_count": 18,
   "metadata": {},
   "outputs": [],
   "source": [
    "import pandas as pd\n",
    "\n",
    "metrics_df = pd.DataFrame(columns=[\"treinamento\", \"acuracia\", \"sensitividade\", \"especificidade\", \"precisao\"])"
   ]
  },
  {
   "cell_type": "markdown",
   "metadata": {},
   "source": [
    "## Experimento 1\n",
    "#### Treinamento A+B com teste C"
   ]
  },
  {
   "cell_type": "code",
   "execution_count": 40,
   "metadata": {},
   "outputs": [
    {
     "data": {
      "text/html": [
       "<div>\n",
       "<style scoped>\n",
       "    .dataframe tbody tr th:only-of-type {\n",
       "        vertical-align: middle;\n",
       "    }\n",
       "\n",
       "    .dataframe tbody tr th {\n",
       "        vertical-align: top;\n",
       "    }\n",
       "\n",
       "    .dataframe thead th {\n",
       "        text-align: right;\n",
       "    }\n",
       "</style>\n",
       "<table border=\"1\" class=\"dataframe\">\n",
       "  <thead>\n",
       "    <tr style=\"text-align: right;\">\n",
       "      <th></th>\n",
       "      <th>treinamento</th>\n",
       "      <th>acuracia</th>\n",
       "      <th>sensitividade</th>\n",
       "      <th>especificidade</th>\n",
       "      <th>precisao</th>\n",
       "    </tr>\n",
       "  </thead>\n",
       "  <tbody>\n",
       "    <tr>\n",
       "      <th>0</th>\n",
       "      <td>A+B e teste C</td>\n",
       "      <td>97.959184</td>\n",
       "      <td>0.979167</td>\n",
       "      <td>[1.0, 0.9444444444444444, 1.0]</td>\n",
       "      <td>0.980392</td>\n",
       "    </tr>\n",
       "  </tbody>\n",
       "</table>\n",
       "</div>"
      ],
      "text/plain": [
       "     treinamento   acuracia  sensitividade                  especificidade  \\\n",
       "0  A+B e teste C  97.959184       0.979167  [1.0, 0.9444444444444444, 1.0]   \n",
       "\n",
       "   precisao  \n",
       "0  0.980392  "
      ]
     },
     "execution_count": 40,
     "metadata": {},
     "output_type": "execute_result"
    }
   ],
   "source": [
    "import pandas as pd\n",
    "from sklearn.neighbors import KNeighborsClassifier\n",
    "from sklearn.metrics import precision_score, accuracy_score, confusion_matrix, recall_score\n",
    "\n",
    "train = pd.concat([A, B])\n",
    "test = pd.concat([C])\n",
    "\n",
    "feature_columns = ['sepal_length', 'sepal_width', 'petal_length','petal_width']\n",
    "\n",
    "\n",
    "x_train = train[feature_columns].values\n",
    "y_train = train['species'].values\n",
    "\n",
    "x_test = test[feature_columns].values\n",
    "y_test = test['species'].values\n",
    "\n",
    "# Será que é necessário normalizar?\n",
    "classifier = KNeighborsClassifier(n_neighbors=3)\n",
    "classifier.fit(x_train, y_train)\n",
    "\n",
    "y_pred = classifier.predict(x_test)\n",
    "\n",
    "cm = confusion_matrix(y_test, y_pred)\n",
    "specificity_per_class = []\n",
    "for j in range(len(cm)):\n",
    "    tn = cm[0, 0] + cm[1, 1] - cm[j, j]\n",
    "    fp = cm[j, :].sum() - cm[j, j]\n",
    "    specificity_j = (tn / (tn + fp))\n",
    "    specificity_per_class.append(specificity_j)\n",
    "\n",
    "accuracy = accuracy_score(y_test, y_pred)*100\n",
    "sensitivity = recall_score(y_test, y_pred, average='macro')\n",
    "precision = precision_score(y_test, y_pred, average='macro')\n",
    "\n",
    "metrics_df.loc[0] = {\n",
    "    \"treinamento\": \"A+B e teste C\",\n",
    "    \"acuracia\": accuracy,\n",
    "    \"sensitividade\": sensitivity,\n",
    "    \"especificidade\": specificity_per_class,\n",
    "    \"precisao\": precision\n",
    "}\n",
    "\n",
    "metrics_df.loc[[0]]"
   ]
  },
  {
   "cell_type": "markdown",
   "metadata": {},
   "source": [
    "## Experimento 2\n",
    "#### Treinamento A+C com teste B"
   ]
  },
  {
   "cell_type": "code",
   "execution_count": 38,
   "metadata": {},
   "outputs": [
    {
     "data": {
      "text/plain": [
       "treinamento                                       A+C e teste B\n",
       "acuracia                                                   96.0\n",
       "sensitividade                                          0.960784\n",
       "especificidade    [1.0, 0.9411764705882353, 0.9411764705882353]\n",
       "precisao                                               0.960784\n",
       "Name: 1, dtype: object"
      ]
     },
     "execution_count": 38,
     "metadata": {},
     "output_type": "execute_result"
    }
   ],
   "source": [
    "import pandas as pd\n",
    "from sklearn.neighbors import KNeighborsClassifier\n",
    "from sklearn.metrics import precision_score, accuracy_score, confusion_matrix, recall_score\n",
    "\n",
    "train = pd.concat([A, C])\n",
    "test = pd.concat([B])\n",
    "\n",
    "feature_columns = ['sepal_length', 'sepal_width', 'petal_length','petal_width']\n",
    "\n",
    "\n",
    "x_train = train[feature_columns].values\n",
    "y_train = train['species'].values\n",
    "\n",
    "x_test = test[feature_columns].values\n",
    "y_test = test['species'].values\n",
    "\n",
    "# Será que é necessário normalizar?\n",
    "classifier = KNeighborsClassifier(n_neighbors=3)\n",
    "classifier.fit(x_train, y_train)\n",
    "\n",
    "y_pred = classifier.predict(x_test)\n",
    "\n",
    "cm = confusion_matrix(y_test, y_pred)\n",
    "specificity_per_class = []\n",
    "for j in range(len(cm)):\n",
    "    tn = cm[0, 0] + cm[1, 1] - cm[j, j]\n",
    "    fp = cm[j, :].sum() - cm[j, j]\n",
    "    specificity_j = (tn / (tn + fp))\n",
    "    specificity_per_class.append(specificity_j)\n",
    "\n",
    "accuracy = accuracy_score(y_test, y_pred)*100\n",
    "sensitivity = recall_score(y_test, y_pred, average='macro')\n",
    "precision = precision_score(y_test, y_pred, average='macro')\n",
    "\n",
    "metrics_df.loc[1] = {\n",
    "    \"treinamento\": \"A+C e teste B\",\n",
    "    \"acuracia\": accuracy,\n",
    "    \"sensitividade\": sensitivity,\n",
    "    \"especificidade\": specificity_per_class,\n",
    "    \"precisao\": precision\n",
    "}\n",
    "\n",
    "metrics_df.loc[[1]]\n"
   ]
  },
  {
   "cell_type": "markdown",
   "metadata": {},
   "source": [
    "## Experimento 3\n",
    "#### Treinamento B+C com teste A"
   ]
  },
  {
   "cell_type": "code",
   "execution_count": 42,
   "metadata": {},
   "outputs": [
    {
     "data": {
      "text/html": [
       "<div>\n",
       "<style scoped>\n",
       "    .dataframe tbody tr th:only-of-type {\n",
       "        vertical-align: middle;\n",
       "    }\n",
       "\n",
       "    .dataframe tbody tr th {\n",
       "        vertical-align: top;\n",
       "    }\n",
       "\n",
       "    .dataframe thead th {\n",
       "        text-align: right;\n",
       "    }\n",
       "</style>\n",
       "<table border=\"1\" class=\"dataframe\">\n",
       "  <thead>\n",
       "    <tr style=\"text-align: right;\">\n",
       "      <th></th>\n",
       "      <th>treinamento</th>\n",
       "      <th>acuracia</th>\n",
       "      <th>sensitividade</th>\n",
       "      <th>especificidade</th>\n",
       "      <th>precisao</th>\n",
       "    </tr>\n",
       "  </thead>\n",
       "  <tbody>\n",
       "    <tr>\n",
       "      <th>2</th>\n",
       "      <td>B+C e teste A</td>\n",
       "      <td>94.117647</td>\n",
       "      <td>0.941176</td>\n",
       "      <td>[1.0, 0.8947368421052632, 0.9411764705882353]</td>\n",
       "      <td>0.94213</td>\n",
       "    </tr>\n",
       "  </tbody>\n",
       "</table>\n",
       "</div>"
      ],
      "text/plain": [
       "     treinamento   acuracia  sensitividade  \\\n",
       "2  B+C e teste A  94.117647       0.941176   \n",
       "\n",
       "                                  especificidade  precisao  \n",
       "2  [1.0, 0.8947368421052632, 0.9411764705882353]   0.94213  "
      ]
     },
     "execution_count": 42,
     "metadata": {},
     "output_type": "execute_result"
    }
   ],
   "source": [
    "import pandas as pd\n",
    "from sklearn.neighbors import KNeighborsClassifier\n",
    "from sklearn.metrics import precision_score, accuracy_score, confusion_matrix, recall_score\n",
    "\n",
    "train = pd.concat([B, C])\n",
    "test = pd.concat([A])\n",
    "\n",
    "feature_columns = ['sepal_length', 'sepal_width', 'petal_length','petal_width']\n",
    "\n",
    "\n",
    "x_train = train[feature_columns].values\n",
    "y_train = train['species'].values\n",
    "\n",
    "x_test = test[feature_columns].values\n",
    "y_test = test['species'].values\n",
    "\n",
    "# Será que é necessário normalizar?\n",
    "classifier = KNeighborsClassifier(n_neighbors=3)\n",
    "classifier.fit(x_train, y_train)\n",
    "\n",
    "y_pred = classifier.predict(x_test)\n",
    "\n",
    "cm = confusion_matrix(y_test, y_pred)\n",
    "specificity_per_class = []\n",
    "for j in range(len(cm)):\n",
    "    tn = cm[0, 0] + cm[1, 1] - cm[j, j]\n",
    "    fp = cm[j, :].sum() - cm[j, j]\n",
    "    specificity_j = (tn / (tn + fp))\n",
    "    specificity_per_class.append(specificity_j)\n",
    "\n",
    "accuracy = accuracy_score(y_test, y_pred)*100\n",
    "sensitivity = recall_score(y_test, y_pred, average='macro')\n",
    "precision = precision_score(y_test, y_pred, average='macro')\n",
    "\n",
    "metrics_df.loc[2] = {\n",
    "    \"treinamento\": \"B+C e teste A\",\n",
    "    \"acuracia\": accuracy,\n",
    "    \"sensitividade\": sensitivity,\n",
    "    \"especificidade\": specificity_per_class,\n",
    "    \"precisao\": precision\n",
    "}\n",
    "\n",
    "metrics_df.loc[[2]]"
   ]
  },
  {
   "cell_type": "markdown",
   "metadata": {},
   "source": [
    "## Resultados"
   ]
  },
  {
   "cell_type": "code",
   "execution_count": 51,
   "metadata": {},
   "outputs": [
    {
     "data": {
      "text/html": [
       "<div>\n",
       "<style scoped>\n",
       "    .dataframe tbody tr th:only-of-type {\n",
       "        vertical-align: middle;\n",
       "    }\n",
       "\n",
       "    .dataframe tbody tr th {\n",
       "        vertical-align: top;\n",
       "    }\n",
       "\n",
       "    .dataframe thead th {\n",
       "        text-align: right;\n",
       "    }\n",
       "</style>\n",
       "<table border=\"1\" class=\"dataframe\">\n",
       "  <thead>\n",
       "    <tr style=\"text-align: right;\">\n",
       "      <th></th>\n",
       "      <th>treinamento</th>\n",
       "      <th>acuracia</th>\n",
       "      <th>sensitividade</th>\n",
       "      <th>especificidade</th>\n",
       "      <th>precisao</th>\n",
       "    </tr>\n",
       "  </thead>\n",
       "  <tbody>\n",
       "    <tr>\n",
       "      <th>0</th>\n",
       "      <td>A+B e teste C</td>\n",
       "      <td>97.959184</td>\n",
       "      <td>0.979167</td>\n",
       "      <td>[1.0, 0.9444444444444444, 1.0]</td>\n",
       "      <td>0.980392</td>\n",
       "    </tr>\n",
       "    <tr>\n",
       "      <th>1</th>\n",
       "      <td>A+C e teste B</td>\n",
       "      <td>96.000000</td>\n",
       "      <td>0.960784</td>\n",
       "      <td>[1.0, 0.9411764705882353, 0.9411764705882353]</td>\n",
       "      <td>0.960784</td>\n",
       "    </tr>\n",
       "    <tr>\n",
       "      <th>2</th>\n",
       "      <td>B+C e teste A</td>\n",
       "      <td>94.117647</td>\n",
       "      <td>0.941176</td>\n",
       "      <td>[1.0, 0.8947368421052632, 0.9411764705882353]</td>\n",
       "      <td>0.942130</td>\n",
       "    </tr>\n",
       "  </tbody>\n",
       "</table>\n",
       "</div>"
      ],
      "text/plain": [
       "     treinamento   acuracia  sensitividade  \\\n",
       "0  A+B e teste C  97.959184       0.979167   \n",
       "1  A+C e teste B  96.000000       0.960784   \n",
       "2  B+C e teste A  94.117647       0.941176   \n",
       "\n",
       "                                  especificidade  precisao  \n",
       "0                 [1.0, 0.9444444444444444, 1.0]  0.980392  \n",
       "1  [1.0, 0.9411764705882353, 0.9411764705882353]  0.960784  \n",
       "2  [1.0, 0.8947368421052632, 0.9411764705882353]  0.942130  "
      ]
     },
     "execution_count": 51,
     "metadata": {},
     "output_type": "execute_result"
    }
   ],
   "source": [
    "metrics_df"
   ]
  },
  {
   "cell_type": "markdown",
   "metadata": {},
   "source": [
    "DÚVIDA: será que é bom mostrar o código abaixo?"
   ]
  },
  {
   "cell_type": "code",
   "execution_count": 47,
   "metadata": {},
   "outputs": [
    {
     "data": {
      "text/plain": [
       "<Figure size 640x480 with 0 Axes>"
      ]
     },
     "metadata": {},
     "output_type": "display_data"
    },
    {
     "data": {
      "image/png": "[encoded data removed]",
      "text/plain": [
       "<Figure size 1500x1000 with 1 Axes>"
      ]
     },
     "metadata": {},
     "output_type": "display_data"
    },
    {
     "name": "stdout",
     "output_type": "stream",
     "text": [
      "The optimal number of neighbors is 13.\n"
     ]
    }
   ],
   "source": [
    "from sklearn.model_selection import cross_val_score\n",
    "import matplotlib.pyplot as plt\n",
    "import seaborn as sns\n",
    "\n",
    "# creating list of K for KNN\n",
    "k_list = list(range(1,50,2))\n",
    "# creating list of cv scores\n",
    "cv_scores = []\n",
    "\n",
    "# perform 10-fold cross validation\n",
    "for k in k_list:\n",
    "    knn = KNeighborsClassifier(n_neighbors=k)\n",
    "    scores = cross_val_score(knn, x_train, y_train, cv=10, scoring='accuracy')\n",
    "    cv_scores.append(scores.mean())\n",
    "\n",
    "\n",
    "MSE = [1 - x for x in cv_scores]\n",
    "\n",
    "plt.figure()\n",
    "plt.figure(figsize=(15,10))\n",
    "plt.title('The optimal number of neighbors', fontsize=20, fontweight='bold')\n",
    "plt.xlabel('Number of Neighbors K', fontsize=15)\n",
    "plt.ylabel('Misclassification Error', fontsize=15)\n",
    "sns.set_style(\"whitegrid\")\n",
    "plt.plot(k_list, MSE)\n",
    "\n",
    "plt.show()\n",
    "\n",
    "\n",
    "best_k = k_list[MSE.index(min(MSE))]\n",
    "print(\"The optimal number of neighbors is %d.\" % best_k)\n",
    "\n"
   ]
  }
 ],
 "metadata": {
  "kernelspec": {
   "display_name": "Python 3",
   "language": "python",
   "name": "python3"
  },
  "language_info": {
   "codemirror_mode": {
    "name": "ipython",
    "version": 3
   },
   "file_extension": ".py",
   "mimetype": "text/x-python",
   "name": "python",
   "nbconvert_exporter": "python",
   "pygments_lexer": "ipython3",
   "version": "3.9.6"
  }
 },
 "nbformat": 4,
 "nbformat_minor": 2
}
